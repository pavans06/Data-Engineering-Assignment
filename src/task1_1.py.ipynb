{
 "cells": [
  {
   "cell_type": "code",
   "execution_count": 1,
   "id": "60a8b3fa",
   "metadata": {},
   "outputs": [
    {
     "name": "stdout",
     "output_type": "stream",
     "text": [
      "Requirement already satisfied: pyspark in c:\\users\\pavan\\anaconda3\\lib\\site-packages (3.3.2)\n",
      "Requirement already satisfied: py4j==0.10.9.5 in c:\\users\\pavan\\anaconda3\\lib\\site-packages (from pyspark) (0.10.9.5)\n",
      "Requirement already satisfied: findspark in c:\\users\\pavan\\anaconda3\\lib\\site-packages (2.0.1)\n"
     ]
    }
   ],
   "source": [
    "!pip install pyspark\n",
    "!pip install findspark"
   ]
  },
  {
   "cell_type": "code",
   "execution_count": 2,
   "id": "bade7abf",
   "metadata": {},
   "outputs": [],
   "source": [
    "import findspark\n",
    "findspark.init()"
   ]
  },
  {
   "cell_type": "code",
   "execution_count": 3,
   "id": "62581990",
   "metadata": {},
   "outputs": [],
   "source": [
    "# Import required libraries\n",
    "#from pyspark import SparkConf, SparkContext"
   ]
  },
  {
   "cell_type": "code",
   "execution_count": 4,
   "id": "bc235bd9",
   "metadata": {},
   "outputs": [],
   "source": [
    "# Create SparkConf and SparkContext objects\n",
    "#conf = SparkConf().setAppName(\"Grocery Shopping Analysis\")\n",
    "#sc = SparkContext.getOrCreate(conf)"
   ]
  },
  {
   "cell_type": "code",
   "execution_count": 5,
   "id": "ddff909c",
   "metadata": {},
   "outputs": [],
   "source": [
    "# Read the dataset from URL\n",
    "#url = \"https://raw.githubusercontent.com/stedy/Machine-Learning-with-R-datasets/master/groceries.csv\"\n",
    "#data = sc.textFile(url)"
   ]
  },
  {
   "cell_type": "code",
   "execution_count": 6,
   "id": "54f1fae2",
   "metadata": {},
   "outputs": [],
   "source": [
    "# Split each line by comma and convert it into list\n",
    "#data = data.map(lambda line: line.split(\",\"))"
   ]
  },
  {
   "cell_type": "code",
   "execution_count": 7,
   "id": "56e8ea11",
   "metadata": {},
   "outputs": [],
   "source": [
    "# Calculate the total number of transactions\n",
    "#total_transactions = data.count()"
   ]
  },
  {
   "cell_type": "code",
   "execution_count": 8,
   "id": "5cea05b8",
   "metadata": {},
   "outputs": [],
   "source": [
    "# Calculate the total number of unique items purchased\n",
    "#unique_items = data.flatMap(lambda x: x).distinct().count()"
   ]
  },
  {
   "cell_type": "code",
   "execution_count": null,
   "id": "42d30e2f",
   "metadata": {},
   "outputs": [],
   "source": [
    "import urllib.request\n",
    "from pyspark import SparkContext\n",
    "\n",
    "url = \"https://raw.githubusercontent.com/stedy/Machine-Learning-with-R-datasets/master/groceries.csv\"\n",
    "\n",
    "# Download the data and convert it to a list of strings\n",
    "response = urllib.request.urlopen(url)\n",
    "data = response.read().decode('utf-8').split('\\n')\n",
    "\n",
    "# Create a SparkContext\n",
    "sc = SparkContext(\"local\", \"Grocery Shopping Analysis\")\n",
    "\n",
    "# Create an RDD from the data\n",
    "rdd = sc.parallelize(data)\n"
   ]
  },
  {
   "cell_type": "code",
   "execution_count": null,
   "id": "44a8f67f",
   "metadata": {},
   "outputs": [],
   "source": [
    "# Count the number of transactions\n",
    "num_transactions = rdd.count()\n",
    "print(\"Number of transactions: {}\".format(num_transactions))\n"
   ]
  },
  {
   "cell_type": "code",
   "execution_count": null,
   "id": "d89d3381",
   "metadata": {},
   "outputs": [],
   "source": [
    "# Split each transaction into individual items\n",
    "items = rdd.flatMap(lambda line: line.split(','))\n",
    "\n",
    "# Get the unique items\n",
    "unique_items = items.distinct()\n",
    "\n",
    "# Save the unique items to a text file\n",
    "unique_items.saveAsTextFile(\"out/out_1_2a.txt\")"
   ]
  }
 ],
 "metadata": {
  "kernelspec": {
   "display_name": "Python 3 (ipykernel)",
   "language": "python",
   "name": "python3"
  },
  "language_info": {
   "codemirror_mode": {
    "name": "ipython",
    "version": 3
   },
   "file_extension": ".py",
   "mimetype": "text/x-python",
   "name": "python",
   "nbconvert_exporter": "python",
   "pygments_lexer": "ipython3",
   "version": "3.9.13"
  }
 },
 "nbformat": 4,
 "nbformat_minor": 5
}
